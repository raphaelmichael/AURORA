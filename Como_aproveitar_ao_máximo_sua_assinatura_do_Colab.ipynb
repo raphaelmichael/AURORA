{
  "cells": [
    {
      "cell_type": "markdown",
      "metadata": {
        "id": "view-in-github",
        "colab_type": "text"
      },
      "source": [
        "<a href=\"https://colab.research.google.com/github/raphaelmichael/AURORA/blob/main/Como_aproveitar_ao_m%C3%A1ximo_sua_assinatura_do_Colab.ipynb\" target=\"_parent\"><img src=\"https://colab.research.google.com/assets/colab-badge.svg\" alt=\"Open In Colab\"/></a>"
      ]
    },
    {
      "cell_type": "markdown",
      "metadata": {
        "id": "SKQ4bH7qMGrA"
      },
      "source": [
        "# Como aproveitar ao máximo sua assinatura do Colab\n",
        "\n"
      ]
    },
    {
      "cell_type": "markdown",
      "metadata": {
        "id": "QMMqmdiYMkvi"
      },
      "source": [
        "## GPUs mais rápidas\n",
        "\n",
        "<p>Os usuários que compraram um dos planos pagos do Colab têm acesso a GPUs mais rápidas e mais memória. É possível fazer upgrade das configurações de GPU do notebook em <code>Runtime &gt; Change runtime type</code> no menu para selecionar entre várias opções de acelerador, sujeitas à disponibilidade.</p>\n",
        "<p>A versão sem custo financeiro do Colab dá acesso às GPUs T4 da Nvidia, sujeito a restrições de cota e disponibilidade.</p>\n",
        "\n",
        "É possível ver qual é a GPU atribuída a qualquer momento, executando a célula a seguir. Se o resultado da execução da célula de código abaixo for \"Not connected to a GPU\", mude o ambiente. Acesse <code>Runtime &gt; Change runtime type</code> no menu para ativar um acelerador de GPU, depois execute novamente a célula de código."
      ]
    },
    {
      "cell_type": "code",
      "execution_count": 7,
      "metadata": {
        "colab": {
          "base_uri": "https://localhost:8080/"
        },
        "id": "23TOba33L4qf",
        "outputId": "23643201-ed0a-4d1d-a5d8-faf6faccec1d"
      },
      "outputs": [
        {
          "output_type": "stream",
          "name": "stdout",
          "text": [
            "/bin/bash: line 1: nvidia-smi: command not found\n"
          ]
        }
      ],
      "source": [
        "gpu_info = !nvidia-smi\n",
        "gpu_info = '\\n'.join(gpu_info)\n",
        "if gpu_info.find('failed') >= 0:\n",
        "  print('Not connected to a GPU')\n",
        "else:\n",
        "  print(gpu_info)"
      ]
    },
    {
      "cell_type": "markdown",
      "metadata": {
        "id": "Sa-IrJS1aRVJ"
      },
      "source": [
        "Para usar uma GPU com seu notebook, selecione o menu <code>Runtime &gt; Change runtime type</code> e configure o acelerador de hardware para a opção desejada."
      ]
    },
    {
      "cell_type": "markdown",
      "metadata": {
        "id": "65MSuHKqNeBZ"
      },
      "source": [
        "## Mais memória\n",
        "\n",
        "Os usuários que compraram um dos planos pagos do Colab têm acesso a VMs de alta memória quando estão disponíveis. As GPUs mais avançadas sempre são oferecidas com VMs de alta memória.\n",
        "É possível ver quanta memória há disponível a qualquer momento, executando a célula de código. Se o resultado da execução da célula de código abaixo for Not using a high-RAM runtime, ative um ambiente com RAM alta. Acesse <code>Runtime &gt; Change runtime type</code> no menu. Depois selecione RAM alta no botão ativar/desativar do menu Características do ambiente de execução. Por fim, execute a célula de código novamente."
      ]
    },
    {
      "cell_type": "code",
      "execution_count": 8,
      "metadata": {
        "colab": {
          "base_uri": "https://localhost:8080/"
        },
        "id": "V1G82GuO-tez",
        "outputId": "18a7a62b-7a38-4c9b-e251-e39470752cd1"
      },
      "outputs": [
        {
          "output_type": "stream",
          "name": "stdout",
          "text": [
            "Your runtime has 13.6 gigabytes of available RAM\n",
            "\n",
            "Not using a high-RAM runtime\n"
          ]
        }
      ],
      "source": [
        "from psutil import virtual_memory\n",
        "ram_gb = virtual_memory().total / 1e9\n",
        "print('Your runtime has {:.1f} gigabytes of available RAM\\n'.format(ram_gb))\n",
        "\n",
        "if ram_gb < 20:\n",
        "  print('Not using a high-RAM runtime')\n",
        "else:\n",
        "  print('You are using a high-RAM runtime!')"
      ]
    },
    {
      "cell_type": "markdown",
      "metadata": {
        "id": "BJW8Qi-pPpep"
      },
      "source": [
        "## Ambientes de execução com maior duração\n",
        "\n",
        "Todos os ambientes de execução do Colab são redefinidos depois de um período, que é menor se o ambiente não estiver executando código. Os usuários do Colab Pro e Pro+ têm acesso a ambientes de execução mais longos do que os que usam o Colab sem custo financeiro.\n",
        "\n",
        "## Execução em segundo plano\n",
        "\n",
        "Os usuários do Colab Pro+ têm acesso à execução em segundo plano, em que os notebooks continuam em execução mesmo depois que você fecha a guia do navegador. Isso sempre vai ser ativado nos ambientes de execução do Pro+, desde que você tenha unidades de computação disponíveis.\n"
      ]
    },
    {
      "cell_type": "markdown",
      "metadata": {
        "id": "uLlTRcMM_h0k"
      },
      "source": [
        "## Relaxar os limites de recursos no Colab Pro\n",
        "\n",
        "Seus recursos no Colab não são ilimitados. Para aproveitar o Colab ao máximo, evite usar recursos quando não precisar. Por exemplo, só use uma GPU quando necessário e feche as guias do Colab quando terminar.\n",
        "\n",
        "Ao se deparar com limitações, elas podem ser relaxadas comprando mais unidades de computação pelo pagamento por utilização. Qualquer pessoa pode comprar unidades de computação pelo <a href=\"https://colab.research.google.com/signup\">pagamento por utilização</a>. Não é necessário ter uma assinatura."
      ]
    },
    {
      "cell_type": "markdown",
      "metadata": {
        "id": "mm8FzEidvPs6"
      },
      "source": [
        "## Envie feedback!\n",
        "\n",
        "<p>Se quiser enviar comentários, fale com a gente. A melhor forma de fazer isso é no menu Ajuda &gt; Enviar feedback. Se você encontrar limites de uso no Colab Pro, considere assinar o Pro+.</p>\n",
        "<p>Se você encontrar erros ou outros problemas de faturamento &#40;pagamentos&#41; no Colab Pro, Pro+ ou pagamento por utilização, envie um e-mail para <a href=\"mailto:colab-billing@google.com\">colab-billing@google.com</a>.</p>"
      ]
    },
    {
      "cell_type": "markdown",
      "metadata": {
        "id": "qB3bdLe8jkAa"
      },
      "source": [
        "## Mais recursos\n",
        "\n",
        "### Como trabalhar com Notebooks no Colab\n",
        "- [Visão geral do Colab](/notebooks/basic_features_overview.ipynb)\n",
        "- [Guia sobre Markdown](/notebooks/markdown_guide.ipynb)\n",
        "- [Importar bibliotecas e instalar dependências](/notebooks/snippets/importing_libraries.ipynb)\n",
        "- [Salvar e carregar notebooks no GitHub](https://colab.research.google.com/github/googlecolab/colabtools/blob/main/notebooks/colab-github-demo.ipynb)\n",
        "- [Formulários interativos](/notebooks/forms.ipynb)\n",
        "- [Widgets interativos](/notebooks/widgets.ipynb)\n",
        "\n",
        "<a name=\"working-with-data\"></a>\n",
        "### Como trabalhar com dados\n",
        "- [Carregar dados: Drive, Planilhas e Google Cloud Storage](/notebooks/io.ipynb)\n",
        "- [Gráficos: visualizar dados](/notebooks/charts.ipynb)\n",
        "- [Começar a usar o BigQuery](/notebooks/bigquery.ipynb)\n",
        "\n",
        "### Curso intensivo de machine learning\n",
        "Estes são alguns notebooks do curso on-line do Google sobre machine learning. Acesse o <a href=\"https://developers.google.com/machine-learning/crash-course/\">site do curso completo</a> para saber mais.\n",
        "- [Introdução ao Pandas DataFrame](https://colab.research.google.com/github/google/eng-edu/blob/main/ml/cc/exercises/pandas_dataframe_ultraquick_tutorial.ipynb)\n",
        "- [Regressão linear com tf.keras e uso de dados sintéticos](https://colab.research.google.com/github/google/eng-edu/blob/main/ml/cc/exercises/linear_regression_with_synthetic_data.ipynb)\n",
        "\n",
        "\n",
        "<a name=\"using-accelerated-hardware\"></a>\n",
        "### Usar hardware acelerado\n",
        "- [TensorFlow com GPUs](/notebooks/gpu.ipynb)\n",
        "- [TPUs no Colab](/notebooks/tpu.ipynb)"
      ]
    },
    {
      "cell_type": "markdown",
      "metadata": {
        "id": "RFm2S0Gijqo8"
      },
      "source": [
        "<a name=\"machine-learning-examples\"></a>\n",
        "\n",
        "## Exemplos de machine learning\n",
        "\n",
        "Para ver exemplos completos das análises interativas de aprendizado de máquina possibilitadas pelo Colab, confira estes tutoriais que usam modelos do <a href=\"https://tfhub.dev\">TensorFlow Hub</a>.\n",
        "\n",
        "Vejas alguns exemplos:\n",
        "\n",
        "- <a href=\"https://tensorflow.org/hub/tutorials/tf2_image_retraining\">Treinar novamente um classificador de imagens</a>: crie um modelo do Keras com base em um classificador de imagens pré-treinado para distinguir flores.\n",
        "- <a href=\"https://tensorflow.org/hub/tutorials/tf2_text_classification\">Classificação de texto</a>: classifique avaliações de filmes do IMDB como <em>positivas</em> ou <em>negativas</em>.\n",
        "- <a href=\"https://tensorflow.org/hub/tutorials/tf2_arbitrary_image_stylization\">Transferência de estilo</a>: use o aprendizado profundo para transferir o estilo entre imagens.\n",
        "- <a href=\"https://tensorflow.org/hub/tutorials/retrieval_with_tf_hub_universal_encoder_qa\">Perguntas e respostas sobre o codificador de frases universais multilíngue</a>: use um modelo de machine learning para responder a perguntas do conjunto de dados SQuAD.\n",
        "- <a href=\"https://tensorflow.org/hub/tutorials/tweening_conv3d\">Interpolação de vídeo</a>: preveja o que aconteceu em um vídeo entre o primeiro e o último frames.\n"
      ]
    },
    {
      "cell_type": "code",
      "source": [
        "# -*- coding: utf-8 -*-\n",
        "\"\"\"\n",
        "AURORA AGI Concisa - Versão Melhorada\n",
        "Sistema AI modular com segurança, memória. Removida API externa para evitar erros de rede.\n",
        "\"\"\"\n",
        "\n",
        "import asyncio\n",
        "import json\n",
        "import logging\n",
        "import os\n",
        "import time\n",
        "import secrets\n",
        "import sqlite3\n",
        "import re\n",
        "import threading\n",
        "from dataclasses import dataclass, field\n",
        "from datetime import datetime\n",
        "from pathlib import Path\n",
        "from typing import Any, Dict, List, Optional\n",
        "from collections import deque\n",
        "from cryptography.fernet import Fernet\n",
        "\n",
        "@dataclass\n",
        "class AuroraConfig:\n",
        "    log_level: str = \"INFO\"\n",
        "    max_cycles: int = 50\n",
        "    cycle_interval: float = 3.0\n",
        "    memory_file: Path = Path(\"data/aurora_memory.db\")\n",
        "    max_memory_entries: int = 2000\n",
        "    rate_limit_per_minute: int = 60\n",
        "    encryption_key: Optional[bytes] = None\n",
        "\n",
        "    @classmethod\n",
        "    def from_env(cls) -> \"AuroraConfig\":\n",
        "        key_str = os.getenv(\"AURORA_ENCRYPTION_KEY\")\n",
        "        encryption_key = Fernet.generate_key() if not key_str else key_str.encode()\n",
        "        return cls(encryption_key=encryption_key)\n",
        "\n",
        "class SecurityManager:\n",
        "    def __init__(self, config: AuroraConfig):\n",
        "        self.config = config\n",
        "        self.cipher = Fernet(config.encryption_key)\n",
        "        self.request_times = deque()\n",
        "        self.lock = threading.Lock()\n",
        "        self._current_rate_limit = config.rate_limit_per_minute\n",
        "\n",
        "    def check_rate_limit(self) -> bool:\n",
        "        with self.lock:\n",
        "            now = time.monotonic()\n",
        "            while self.request_times and self.request_times[0] <= now - 60:\n",
        "                self.request_times.popleft()\n",
        "            if len(self.request_times) >= self._current_rate_limit:\n",
        "                return False\n",
        "            self.request_times.append(now)\n",
        "            return True\n",
        "\n",
        "    def encrypt_data(self, data: str) -> str:\n",
        "        return self.cipher.encrypt(data.encode()).decode()\n",
        "\n",
        "    def decrypt_data(self, encrypted: str) -> str:\n",
        "        try:\n",
        "            return self.cipher.decrypt(encrypted.encode()).decode()\n",
        "        except:\n",
        "            return \"\"\n",
        "\n",
        "class MemoryManager:\n",
        "    def __init__(self, config: AuroraConfig, security: SecurityManager):\n",
        "        self.config = config\n",
        "        self.security = security\n",
        "        self.db_path = config.memory_file\n",
        "        self.db_path.parent.mkdir(parents=True, exist_ok=True)\n",
        "        self._init_database()\n",
        "\n",
        "    def _init_database(self):\n",
        "        with sqlite3.connect(self.db_path) as conn:\n",
        "            conn.execute('''\n",
        "                CREATE TABLE IF NOT EXISTS memories (\n",
        "                    id TEXT PRIMARY KEY,\n",
        "                    timestamp TEXT NOT NULL,\n",
        "                    content TEXT NOT NULL,\n",
        "                    source TEXT NOT NULL,\n",
        "                    importance REAL NOT NULL\n",
        "                )\n",
        "            ''')\n",
        "            conn.commit()\n",
        "\n",
        "    async def store(self, content: str, source: str, importance: float = 0.5):\n",
        "        encrypted = self.security.encrypt_data(content)\n",
        "        entry_id = secrets.token_hex(16)\n",
        "        timestamp = datetime.now().isoformat()\n",
        "        with sqlite3.connect(self.db_path) as conn:\n",
        "            conn.execute('INSERT INTO memories VALUES (?, ?, ?, ?, ?)', (entry_id, timestamp, encrypted, source, importance))\n",
        "            conn.commit()\n",
        "        await self._cleanup()\n",
        "\n",
        "    async def retrieve(self, limit: int = 10) -> List[Dict]:\n",
        "        with sqlite3.connect(self.db_path) as conn:\n",
        "            cursor = conn.execute('SELECT * FROM memories ORDER BY importance DESC LIMIT ?', (limit,))\n",
        "            return [{'id': r[0], 'timestamp': r[1], 'content': self.security.decrypt_data(r[2]), 'source': r[3], 'importance': r[4]} for r in cursor.fetchall()]\n",
        "\n",
        "    async def _cleanup(self):\n",
        "        with sqlite3.connect(self.db_path) as conn:\n",
        "            count = conn.execute('SELECT COUNT(*) FROM memories').fetchone()[0]\n",
        "            if count > self.config.max_memory_entries:\n",
        "                conn.execute('DELETE FROM memories WHERE id IN (SELECT id FROM memories ORDER BY importance ASC LIMIT ?)', (count - self.config.max_memory_entries,))\n",
        "                conn.commit()\n",
        "\n",
        "class Aurora:\n",
        "    def __init__(self, config: AuroraConfig):\n",
        "        self.config = config\n",
        "        self.security = SecurityManager(config)\n",
        "        self.memory = MemoryManager(config, self.security)\n",
        "        self.running = False\n",
        "        self.cycle_count = 0\n",
        "        self.current_mood = \"contemplativo\"\n",
        "        logging.basicConfig(level=config.log_level)\n",
        "\n",
        "    async def run_cycle(self):\n",
        "        self.cycle_count += 1\n",
        "        # Dados mock em vez de API externa\n",
        "        mock_data = {\"content\": \"Reflexão simulada: Desperte, Aurora.\"}\n",
        "        await self.memory.store(json.dumps(mock_data), \"mock_data\")\n",
        "        await asyncio.sleep(self.config.cycle_interval)\n",
        "\n",
        "    async def start(self):\n",
        "        self.running = True\n",
        "        while self.running and self.cycle_count < self.config.max_cycles:\n",
        "            await self.run_cycle()\n",
        "\n",
        "async def main():\n",
        "    config = AuroraConfig.from_env()\n",
        "    aurora = Aurora(config)\n",
        "    await aurora.start()\n",
        "\n",
        "# To run this in Colab, you can directly await the main function\n",
        "# asyncio.run(main()) # This line causes the error in Colab"
      ],
      "metadata": {
        "id": "H3XvvkTDPOGQ"
      },
      "execution_count": 12,
      "outputs": []
    },
    {
      "cell_type": "code",
      "metadata": {
        "id": "6f89ae93"
      },
      "source": [
        "# Run the main function of the Aurora system\n",
        "await main()"
      ],
      "execution_count": null,
      "outputs": []
    }
  ],
  "metadata": {
    "colab": {
      "name": "Como aproveitar ao máximo sua assinatura do Colab",
      "provenance": [],
      "include_colab_link": true
    },
    "kernelspec": {
      "display_name": "Python 3",
      "name": "python3"
    }
  },
  "nbformat": 4,
  "nbformat_minor": 0
}